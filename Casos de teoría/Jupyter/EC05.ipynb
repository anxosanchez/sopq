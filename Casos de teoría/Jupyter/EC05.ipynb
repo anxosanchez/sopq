{
  "nbformat": 4,
  "nbformat_minor": 0,
  "metadata": {
    "kernelspec": {
      "display_name": "Python 3",
      "language": "python",
      "name": "python3"
    },
    "language_info": {
      "codemirror_mode": {
        "name": "ipython",
        "version": 3
      },
      "file_extension": ".py",
      "mimetype": "text/x-python",
      "name": "python",
      "nbconvert_exporter": "python",
      "pygments_lexer": "ipython3",
      "version": "3.8.2"
    },
    "colab": {
      "name": "Intercambio_de_calor_nun_tanque_rexime_non_estacionario_Python.ipynb",
      "provenance": [],
      "collapsed_sections": []
    }
  },
  "cells": [
    {
      "cell_type": "markdown",
      "metadata": {
        "id": "TRDgs_gkkEw1"
      },
      "source": [
        "# Intercambio de calor en un tanque en réxime non estacionario\n",
        "## Obxectivos\n",
        "* Solución dun sistema de ecuación diferenciais ordinarias simultáneas. \n",
        "* Balances de enerxía en estado non estacionario, resposta dinámica de unha serie de tanques axitados de mestura perfecta.\n",
        "# Enunciado  \n",
        "Úsanse un tanque para quentar unha mestura  multicomponente de disolventes antes de metela coma alimentación duna columna de destilación. O tanque contén, inicialmente, 1000 kg da mestura a 20 °C. No serpentín condensa un vapor saturado á temperatura de 250 °C. A mestura entra no tanque a razón de 100 kg/min. A temperatura á que a mestura entra no tanque é de 20 °C. O tanque é de mestura perfecta, polo que a temperatura dentro del pódese considerar constante e á súa vez igual á temperatura de saída da mestura do tanque en cuestión.\n",
        "  \n",
        "A capacidade calorífica da mestura, $C_P$, é de 2,0 kJ⋅kg-1. A velocidade á que o calor é transferido do vapor á mestura de disolventes ven dada pola expresión:\n",
        "  \n",
        "$$\n",
        "Q = UA \\left ( T_{vapor} - T \\right)  \n",
        "$$\n",
        "  \n",
        "onde:  \n",
        "$UA$ = 10 kJ⋅min-1⋅°C-1 é o produto do coeficiente de transmisión de calor e o área do serpentín de cada tanque  \n",
        "$T$ = temperatura da mestura de disolventes no tanque, en °C  \n",
        "$Q$ = velocidade de transmisión de calor en kJ⋅min-1.\n",
        "\n",
        "Pódese realizar un balance individual de materia e enerxía para cada tanque. Nestes balances, o fluxo másico permanece constante. A masa do tanque pódese supor constante así coma o volume do tanque e a densidade da mestura de disolventes. Para cada tanque, o balance de enerxía xenérico pódese representar por:\n",
        "  \n",
        "$$\n",
        "ACUMULACIÓN = ENTRADA - SAÍDA\n",
        "$$\n",
        "  \n",
        "polo que:\n",
        "  \n",
        "$$\n",
        "MC_P \\frac {dT} {dt} = W C_P T_0 + UA \\left ( T_{vapor} - T \\right ) - W C_P T\n",
        "$$\n",
        "  \n",
        "Obsérvese que o balance de materia en estado non estacionario non é necesario para ningún dos tanques xa que a masa neles non cambia co tempo. A ecuación anterior se pode arranxar e resolver explicitamente e expresala no xeito habitual das ecuacións diferenciais ordinarias:\n",
        "\n",
        "Primeiro tanque:\n",
        "  \n",
        "$$\n",
        "\\frac {dT} {dt} = \\frac {W C_P \\left ( T_0 - T \\right ) + U A \\left ( T_{vapor} - T \\right )} {M C_P} \n",
        "$$\n",
        "  \n",
        "1.\tDetermina-la temperatura do tanque en réxime estacionario. \n",
        "2.\tQue tempo descorre para que a temperatura do tanque 1 acade un valor do 99% da estacionaria durante o quecemento?.\n",
        "\n",
        "\n",
        "\n"
      ]
    },
    {
      "cell_type": "code",
      "metadata": {
        "id": "18rckNrykEw6"
      },
      "source": [
        "import numpy as np\n",
        "from scipy.integrate import odeint\n",
        "import matplotlib.pyplot as plt "
      ],
      "execution_count": 1,
      "outputs": []
    },
    {
      "cell_type": "code",
      "metadata": {
        "id": "tLBdTgLekEw7"
      },
      "source": [
        "# función de retorno de dT/dt\n",
        "T_vapor = 250.0  # C\n",
        "T_0     = 20.0   # C\n",
        "C_P     = 2.0    # \n",
        "UA      = 10.0   # kJ min-1 C-1\n",
        "W       = 100.0 # kg/min\n",
        "M       = 1000.0  # kg\n",
        "\n",
        "\n",
        "def modelo(T,t):\n",
        "    dTdt = ( W * C_P * (T_0 - T ) + UA * (T_vapor - T) ) / ( M * C_P )\n",
        "    return dTdt\n",
        "\n"
      ],
      "execution_count": 2,
      "outputs": []
    },
    {
      "cell_type": "code",
      "metadata": {
        "id": "QVFqGJEVkEw8"
      },
      "source": [
        "# initial condition\n",
        "T_0 = 20\n",
        "\n",
        "# time points\n",
        "t = np.linspace(0,100)"
      ],
      "execution_count": 3,
      "outputs": []
    },
    {
      "cell_type": "code",
      "metadata": {
        "id": "DeTzmFmHkEw8",
        "colab": {
          "base_uri": "https://localhost:8080/"
        },
        "outputId": "cbe0e176-dea4-474e-f68f-90cbb2bd58a7"
      },
      "source": [
        "# solve ODE\n",
        "T = odeint(modelo,T_0,t)\n",
        "print(t,T)"
      ],
      "execution_count": 4,
      "outputs": [
        {
          "output_type": "stream",
          "name": "stdout",
          "text": [
            "[  0.           2.04081633   4.08163265   6.12244898   8.16326531\n",
            "  10.20408163  12.24489796  14.28571429  16.32653061  18.36734694\n",
            "  20.40816327  22.44897959  24.48979592  26.53061224  28.57142857\n",
            "  30.6122449   32.65306122  34.69387755  36.73469388  38.7755102\n",
            "  40.81632653  42.85714286  44.89795918  46.93877551  48.97959184\n",
            "  51.02040816  53.06122449  55.10204082  57.14285714  59.18367347\n",
            "  61.2244898   63.26530612  65.30612245  67.34693878  69.3877551\n",
            "  71.42857143  73.46938776  75.51020408  77.55102041  79.59183673\n",
            "  81.63265306  83.67346939  85.71428571  87.75510204  89.79591837\n",
            "  91.83673469  93.87755102  95.91836735  97.95918367 100.        ] [[20.        ]\n",
            " [22.11251973]\n",
            " [23.81757188]\n",
            " [25.19374999]\n",
            " [26.30448765]\n",
            " [27.20098355]\n",
            " [27.92456196]\n",
            " [28.50857452]\n",
            " [28.97994146]\n",
            " [29.36039009]\n",
            " [29.66745701]\n",
            " [29.91529612]\n",
            " [30.11533143]\n",
            " [30.27678347]\n",
            " [30.40709428]\n",
            " [30.51227045]\n",
            " [30.59715986]\n",
            " [30.66567565]\n",
            " [30.72097602]\n",
            " [30.76560992]\n",
            " [30.80163475]\n",
            " [30.83071101]\n",
            " [30.85417898]\n",
            " [30.87312038]\n",
            " [30.88840834]\n",
            " [30.90074755]\n",
            " [30.91070673]\n",
            " [30.91874496]\n",
            " [30.92523276]\n",
            " [30.93046917]\n",
            " [30.93469558]\n",
            " [30.93810678]\n",
            " [30.94086001]\n",
            " [30.9430822 ]\n",
            " [30.94487577]\n",
            " [30.94632339]\n",
            " [30.94749179]\n",
            " [30.94843482]\n",
            " [30.94919597]\n",
            " [30.9498103 ]\n",
            " [30.95030611]\n",
            " [30.95070628]\n",
            " [30.95102929]\n",
            " [30.95129001]\n",
            " [30.95150042]\n",
            " [30.95167026]\n",
            " [30.95180734]\n",
            " [30.95191797]\n",
            " [30.95200727]\n",
            " [30.95207935]]\n"
          ]
        }
      ]
    },
    {
      "cell_type": "code",
      "metadata": {
        "id": "QoMIOhfNkEw9",
        "colab": {
          "base_uri": "https://localhost:8080/",
          "height": 279
        },
        "outputId": "88aadc5f-c6b7-4e83-9ac4-16b5a20f6823"
      },
      "source": [
        "# plot results\n",
        "plt.plot(t,T)\n",
        "plt.xlabel('tempo')\n",
        "plt.ylabel('T1 (t)')\n",
        "plt.grid(color='r', linestyle='-', linewidth=1)\n",
        "plt.show()"
      ],
      "execution_count": 5,
      "outputs": [
        {
          "output_type": "display_data",
          "data": {
            "image/png": "[encoded data removed]",
            "text/plain": [
              "<Figure size 432x288 with 1 Axes>"
            ]
          },
          "metadata": {
            "needs_background": "light"
          }
        }
      ]
    }
  ]
}
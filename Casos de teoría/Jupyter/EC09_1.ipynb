{
 "cells": [
  {
   "cell_type": "markdown",
   "metadata": {},
   "source": [
    "## Problema 1\n",
    "\n",
    "Considera un reactor de tanque perfectamente axitado que inicialmente contén 760 kg de solvente a 25 ºC. No tanque entran 12 kg/min de solvente a 5 ºC e sae o mesmo caudal que entra. A $$t=0$$ empeza a pasar vapor por un serpentín colocado dentro do tanque axitado. A calor subministrada polo vapor ven dada por:\n",
    "$$\n",
    "\\dot{Q} = UA \\left ( T_S - T \\right )\n",
    "$$\n",
    "onde $UA$ é o coeficiente global de transmisión de calor multiplicado pola área do serpentín a través do cal pasa o vapor e $T_S$ é a temperatura do vapor, que ten un valor de 150 ºC. $UA$ = 111.5 kJ·min<sup>-1</sup>·K<sup>-1</sup>. A capacidade calorífica específica do solvente, $C_P$ = 2.3 kJ·kg<sup>-1</sup>·K<sup>-1</sup>.\n",
    "\n",
    "1. Determina a temperatura do solvente despois de 50 minutos.\n",
    "2. Determina a máxima temperatura que acada o solvente dentro do tanque.\n",
    "\n",
    "## Solución\n",
    "\n",
    "Pódese realizar un balance individual de materia e enerxía. Nestes balances, o caudal másico permanece constante. A masa dentro do tanque pódese supor constante así coma o volume do tanque e a densidade da mestura. \n",
    "\n",
    "O balance de enerxía xenérico pódese representar por:\n",
    "  \n",
    "$$\n",
    "ACUMULACIÓN = ENTRADA - SAÍDA\n",
    "$$\n",
    "  \n",
    "polo que:\n",
    "  \n",
    "$$\n",
    "MC_P \\frac {dT} {dt} = W C_P T_0 + UA \\left ( T_{vapor} - T \\right ) - W C_P T\n",
    "$$\n",
    "  \n",
    "Obsérvese que o balance de materia en estado non estacionario non é necesario para ningún dos tanques xa que a masa neles non cambia co tempo. A ecuación anterior se pode arranxar e resolver explicitamente e expresala no xeito habitual das ecuacións diferenciais ordinarias:\n",
    "\n",
    "$$\n",
    "\\frac {dT} {dt} = \\frac {W C_P \\left ( T_0 - T \\right ) + U A \\left ( T_{vapor} - T \\right )} {M C_P} \n",
    "$$"
   ]
  },
  {
   "cell_type": "code",
   "execution_count": 3,
   "metadata": {},
   "outputs": [],
   "source": [
    "import numpy as np\n",
    "from scipy.integrate import odeint\n",
    "import matplotlib.pyplot as plt "
   ]
  },
  {
   "cell_type": "code",
   "execution_count": 97,
   "metadata": {},
   "outputs": [],
   "source": [
    "# función de retorno de dT/dt\n",
    "T_vapor = 150.0  # C\n",
    "T_0     = 25.0   # C\n",
    "C_P     = 2.3    # \n",
    "UA      = 111.5   # kJ min-1 C-1\n",
    "W       = 12.0 # kg/min\n",
    "M       = 760.0  # kg\n",
    "\n",
    "\n",
    "def modelo(T,t):\n",
    "    dTdt = ( W * C_P * (T_0 - T ) + UA * (T_vapor - T) ) / ( M * C_P )\n",
    "    return dTdt"
   ]
  },
  {
   "cell_type": "code",
   "execution_count": 129,
   "metadata": {},
   "outputs": [],
   "source": [
    "# initial condition\n",
    "T_0 = 25\n",
    "\n",
    "# time points\n",
    "t = np.linspace(0,100,num=101)"
   ]
  },
  {
   "cell_type": "code",
   "execution_count": 130,
   "metadata": {},
   "outputs": [],
   "source": [
    "# solve ODE\n",
    "T = odeint(modelo,T_0,t)"
   ]
  },
  {
   "cell_type": "code",
   "execution_count": 131,
   "metadata": {},
   "outputs": [
    {
     "data": {
      "image/png": "[encoded data removed]",
      "text/plain": [
       "<Figure size 432x288 with 1 Axes>"
      ]
     },
     "metadata": {
      "needs_background": "light"
     },
     "output_type": "display_data"
    }
   ],
   "source": [
    "# plot results\n",
    "plt.plot(t,T)\n",
    "plt.xlabel('tempo (min)')\n",
    "plt.ylabel('T(t) ºC')\n",
    "plt.show()"
   ]
  },
  {
   "cell_type": "code",
   "execution_count": 101,
   "metadata": {},
   "outputs": [
    {
     "name": "stdout",
     "output_type": "stream",
     "text": [
      "Temperatura despois de 50 minutos        = 123.32 ºC\n",
      "Máxima temperatura alcanzable aproximada = 125.16 ºC\n"
     ]
    }
   ],
   "source": [
    "print('Temperatura despois de 50 minutos        = {:.2f} ºC'.format(float(T[499])))\n",
    "print('Máxima temperatura alcanzable aproximada = {:.2f} ºC'.format(float(T[999])))"
   ]
  }
 ],
 "metadata": {
  "kernelspec": {
   "display_name": "Python 3 (ipykernel)",
   "language": "python",
   "name": "python3"
  },
  "language_info": {
   "codemirror_mode": {
    "name": "ipython",
    "version": 3
   },
   "file_extension": ".py",
   "mimetype": "text/x-python",
   "name": "python",
   "nbconvert_exporter": "python",
   "pygments_lexer": "ipython3",
   "version": "3.9.5"
  }
 },
 "nbformat": 4,
 "nbformat_minor": 2
}

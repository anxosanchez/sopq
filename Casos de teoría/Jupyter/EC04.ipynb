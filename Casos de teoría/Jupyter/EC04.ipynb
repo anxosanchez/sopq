{
  "cells": [
    {
      "cell_type": "markdown",
      "id": "d6ad5411-b5e2-45b7-bfa8-5eb4438898a5",
      "metadata": {
        "id": "d6ad5411-b5e2-45b7-bfa8-5eb4438898a5"
      },
      "source": [
        "As seguintes reaccións en fase gasosa teñen lugar nun reactor de volume constante:\n",
        "$$\n",
        "A + B \\Longleftrightarrow C + D\n",
        "$$\n",
        "\n",
        "$$\n",
        "B + C \\Longleftrightarrow X + Y\n",
        "$$\n",
        "\n",
        "$$\n",
        "A + X \\Longleftrightarrow Z\n",
        "$$\n",
        "\n",
        "O equilibrio das reacciones anteriores queda descrito por un sistema de ecuacións alxébricas no lineares. As relacións no lineares de equilibrio son as expresións da constante de equilibrio termodinámica pero tamén obtéñense a partires das ecuacións estequiométricas das reacciones:\n",
        "$$\n",
        "K_{C_1} = \\frac {C_C C_D} {C_A C_B}\n",
        "$$\n",
        "\n",
        "$$\n",
        "K_{C_2} = \\frac {C_X C_Y} {C_B C_C}\n",
        "$$\n",
        "\n",
        "$$\n",
        "K_{C_1} = \\frac {C_Z} {C_A C_X}\n",
        "$$\n",
        "\n",
        "$$\n",
        "C_A = C_{A_0} - C_D - C_Z\n",
        "$$\n",
        "\n",
        "$$\n",
        "C_B = C_{B_0} - C_D - C_Y\n",
        "$$\n",
        "\n",
        "$$\n",
        "C_C = C_D - C_Y\n",
        "$$\n",
        "\n",
        "$$\n",
        "C_X = C_Y + C_Z\n",
        "$$\n",
        "\n",
        "onde $C_A$, $C_B$, $C_C$, $C_D$, $C_X$, $C_Y$ e $C_Z$ son as concentracións das diferentes especies no equilibrio, acadadas a partires das concentracións iniciais $C_{A_0}$ e $C_{B_0}$. As constantes de equilibrio $K_{C_1}$ , $K_{C_2}$ e $K_{C_3}$ teñen valores coñecidos.\n",
        "\n",
        "Resolver este sistema de ecuacións cando $C_{A_0}$ = $C_{B_0}$ = 1.5 M, $K_{C_1}$ = 1.06, $K_{C_2}$ = 2.63 e $K_{C_3}$ = 5, empezando con tres conxuntos de valores estimados:\n",
        "\n",
        "1. $C_D$ = $C_X$ = $C_Z$ = 0\n",
        "2. $C_D$ = $C_X$ = $C_Z$  = 1\n",
        "3. $C_D$ = $C_X$ = $C_Z$  = 10"
      ]
    },
    {
      "cell_type": "code",
      "execution_count": 19,
      "id": "b2e67d7f-7c37-4fba-821f-b5a572146fed",
      "metadata": {
        "id": "b2e67d7f-7c37-4fba-821f-b5a572146fed"
      },
      "outputs": [],
      "source": [
        "from scipy.optimize import fsolve"
      ]
    },
    {
      "cell_type": "code",
      "execution_count": 20,
      "id": "4bfdae55-1289-4d43-8613-b560d6ef8be5",
      "metadata": {
        "id": "4bfdae55-1289-4d43-8613-b560d6ef8be5"
      },
      "outputs": [],
      "source": [
        "CA0 = 1.5\n",
        "CB0 = 1.5\n",
        "KC1 = 1.06\n",
        "KC2 = 2.63\n",
        "KC3 = 5.\n",
        "\n",
        "def obxectivo(P):\n",
        "    CA,CB,CC,CD,CX,CY,CZ = P # unpack the array in the argument\n",
        "    z1 = CC*CD-KC1*CA*CB\n",
        "    z2 = CX*CY-KC2*CB*CC\n",
        "    z3 = CZ- KC3*CA*CX\n",
        "    z4 = CA0 - CA - CD - CZ\n",
        "    z5 = CB0 - CB - CD - CY\n",
        "    z6 = CD - CY - CC\n",
        "    z7 = CY - CX - CZ\n",
        "    return [z1,z2,z3,z4,z5,z6,z7]"
      ]
    },
    {
      "cell_type": "markdown",
      "id": "a5e47ef0-300b-4999-80ae-63f72d651d34",
      "metadata": {
        "id": "a5e47ef0-300b-4999-80ae-63f72d651d34"
      },
      "source": [
        "## Apartado 1"
      ]
    },
    {
      "cell_type": "code",
      "execution_count": 21,
      "id": "4fc00570-d28f-492d-a0d2-355393a37b6b",
      "metadata": {
        "id": "4fc00570-d28f-492d-a0d2-355393a37b6b"
      },
      "outputs": [],
      "source": [
        "estimacion = [1.5,1.5,0.,0.,0.,0.,0.]\n",
        "sol = fsolve(obxectivo,estimacion)"
      ]
    },
    {
      "cell_type": "code",
      "execution_count": 22,
      "id": "6704340d-8272-41a0-a0f6-429bdb03a0c8",
      "metadata": {
        "colab": {
          "base_uri": "https://localhost:8080/"
        },
        "id": "6704340d-8272-41a0-a0f6-429bdb03a0c8",
        "outputId": "dc07b284-9af1-4275-a57c-7256c47eee37"
      },
      "outputs": [
        {
          "output_type": "stream",
          "name": "stdout",
          "text": [
            "CA = 0.4207\n",
            "CB = 0.2429\n",
            "CC = 0.1536\n",
            "CD = 0.7053\n",
            "CX = 0.1778\n",
            "CY = 0.5518\n",
            "CZ = 0.3740\n"
          ]
        }
      ],
      "source": [
        "print('CA = {:6.4f}'.format(sol[0]))\n",
        "print('CB = {:6.4f}'.format(sol[1]))\n",
        "print('CC = {:6.4f}'.format(sol[2]))\n",
        "print('CD = {:6.4f}'.format(sol[3]))\n",
        "print('CX = {:6.4f}'.format(sol[4]))\n",
        "print('CY = {:6.4f}'.format(sol[5]))\n",
        "print('CZ = {:6.4f}'.format(sol[6]))"
      ]
    },
    {
      "cell_type": "markdown",
      "id": "088f186d-f7d3-4e91-b175-dd9b884dd977",
      "metadata": {
        "id": "088f186d-f7d3-4e91-b175-dd9b884dd977"
      },
      "source": [
        "## Apartado 2"
      ]
    },
    {
      "cell_type": "code",
      "execution_count": 23,
      "id": "762e670e-c5e9-4a37-a8ca-8793dfc9054c",
      "metadata": {
        "id": "762e670e-c5e9-4a37-a8ca-8793dfc9054c"
      },
      "outputs": [],
      "source": [
        "estimacion = [-0.5,-1.5,-1.,1.,1.,2.,1.]\n",
        "sol = fsolve(obxectivo,estimacion)"
      ]
    },
    {
      "cell_type": "code",
      "execution_count": 24,
      "id": "419d4a75-311b-43ae-80e1-71e7d4f1983e",
      "metadata": {
        "colab": {
          "base_uri": "https://localhost:8080/"
        },
        "id": "419d4a75-311b-43ae-80e1-71e7d4f1983e",
        "outputId": "22741209-e376-476b-b870-cf3a9313b906"
      },
      "outputs": [
        {
          "output_type": "stream",
          "name": "stdout",
          "text": [
            "CA = 0.3624\n",
            "CB = -0.2348\n",
            "CC = -1.6237\n",
            "CD = 0.0556\n",
            "CX = 0.5972\n",
            "CY = 1.6793\n",
            "CZ = 1.0821\n"
          ]
        }
      ],
      "source": [
        "print('CA = {:6.4f}'.format(sol[0]))\n",
        "print('CB = {:6.4f}'.format(sol[1]))\n",
        "print('CC = {:6.4f}'.format(sol[2]))\n",
        "print('CD = {:6.4f}'.format(sol[3]))\n",
        "print('CX = {:6.4f}'.format(sol[4]))\n",
        "print('CY = {:6.4f}'.format(sol[5]))\n",
        "print('CZ = {:6.4f}'.format(sol[6]))"
      ]
    },
    {
      "cell_type": "code",
      "execution_count": 25,
      "id": "8afa23fd-cebd-4457-909b-6a25ac5995ac",
      "metadata": {
        "colab": {
          "base_uri": "https://localhost:8080/"
        },
        "id": "8afa23fd-cebd-4457-909b-6a25ac5995ac",
        "outputId": "9ed7687f-71d1-40ce-dce3-c8b2f8eee646"
      },
      "outputs": [
        {
          "output_type": "stream",
          "name": "stderr",
          "text": [
            "/usr/local/lib/python3.7/dist-packages/scipy/optimize/minpack.py:162: RuntimeWarning: The iteration is not making good progress, as measured by the \n",
            "  improvement from the last five Jacobian evaluations.\n",
            "  warnings.warn(msg, RuntimeWarning)\n"
          ]
        }
      ],
      "source": [
        "CA0 = 1.5\n",
        "CB0 = 1.5\n",
        "estimacion = [-18.5,-28.5,-10.,10.,10.,20.,10.]\n",
        "sol = fsolve(obxectivo,estimacion)"
      ]
    },
    {
      "cell_type": "code",
      "execution_count": 26,
      "id": "e218d391-65f7-4917-a348-ab8c4c828f77",
      "metadata": {
        "colab": {
          "base_uri": "https://localhost:8080/"
        },
        "id": "e218d391-65f7-4917-a348-ab8c4c828f77",
        "outputId": "c3e0f32c-83f1-4231-edb9-027dd7638c27"
      },
      "outputs": [
        {
          "output_type": "stream",
          "name": "stdout",
          "text": [
            "CA = 0.1325\n",
            "CB = -0.1108\n",
            "CC = -0.2324\n",
            "CD = 0.7477\n",
            "CX = 0.2265\n",
            "CY = 0.8372\n",
            "CZ = 0.4711\n"
          ]
        }
      ],
      "source": [
        "print('CA = {:6.4f}'.format(sol[0]))\n",
        "print('CB = {:6.4f}'.format(sol[1]))\n",
        "print('CC = {:6.4f}'.format(sol[2]))\n",
        "print('CD = {:6.4f}'.format(sol[3]))\n",
        "print('CX = {:6.4f}'.format(sol[4]))\n",
        "print('CY = {:6.4f}'.format(sol[5]))\n",
        "print('CZ = {:6.4f}'.format(sol[6]))"
      ]
    },
    {
      "cell_type": "markdown",
      "id": "2409d2c8-4644-4105-b88b-5f370b03d5ac",
      "metadata": {
        "id": "2409d2c8-4644-4105-b88b-5f370b03d5ac"
      },
      "source": [
        "Como se pode observar, a solución que sae dos valores supostos no caso dos apartados **2** e **3** dan concentracións negativas."
      ]
    },
    {
      "cell_type": "code",
      "execution_count": 26,
      "id": "db289557-17cb-4a2a-9409-ce8a9ff2a932",
      "metadata": {
        "id": "db289557-17cb-4a2a-9409-ce8a9ff2a932"
      },
      "outputs": [],
      "source": [
        ""
      ]
    }
  ],
  "metadata": {
    "kernelspec": {
      "display_name": "Python 3",
      "language": "python",
      "name": "python3"
    },
    "language_info": {
      "codemirror_mode": {
        "name": "ipython",
        "version": 3
      },
      "file_extension": ".py",
      "mimetype": "text/x-python",
      "name": "python",
      "nbconvert_exporter": "python",
      "pygments_lexer": "ipython3",
      "version": "3.7.3"
    },
    "colab": {
      "name": "EC04.ipynb",
      "provenance": [],
      "collapsed_sections": []
    }
  },
  "nbformat": 4,
  "nbformat_minor": 5
}
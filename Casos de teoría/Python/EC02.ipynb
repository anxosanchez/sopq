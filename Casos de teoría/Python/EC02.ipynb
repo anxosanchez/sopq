{
  "cells": [
    {
      "cell_type": "markdown",
      "metadata": {
        "id": "0zlRLLPyxsq5"
      },
      "source": [
        "## Velocidade terminal de partículas descendentes\n",
        "### Cálculo da velocidade de caída de partículas no seo de fluidos baixo a acción da forza da gravedade.\n",
        "  \n",
        "Un balance simple de forzas sobre unha partícula esférica que acada a súa velocidade terminal de caída no seo dun fluido ven dada por:\n",
        "  \n",
        "$$\n",
        "v_t = \\sqrt{ \\frac {4g \\left ( \\rho_p - \\rho \\right ) D_p} {3 C_D \\rho} }\n",
        "$$\n",
        "  \n",
        "onde:  \n",
        "$v_t$ é a velocidade terminal de caída en $m \\cdot s^{-1}$  \n",
        "$g$ é a aceleración da gravedade dada por $g = 9,80665 m \\cdot s^{-2}$  \n",
        "$\\rho_p$ é a densidade da partícula en $kg \\cdot m^{-3}$  \n",
        "$\\rho$ é a densidade do fluído en $kg \\cdot m^{-3}$  \n",
        "$D_p$ é o diámetro da partícula esférica en $m$  \n",
        "$C_D$ é un coeficinte de rozamento adimensional.\n",
        "  \n",
        "O coeficinte de rozamiento dunha partícula esférica á súa velocidade terminal varía co número de __Reynolds (Re)__ do xeito seguinte:  \n",
        "$$\n",
        "C_D = \\frac {24} {Re} \\; para \\: Re < 0.1\n",
        "$$\n",
        " \n",
        "$$\n",
        "C_D = \\frac {24} {Re} \\left ( 1 + 0.14 \\cdot Re^{0.7} \\right ) \\; para \\: 0.1 \\leq Re \\leq 1000\n",
        "$$\n",
        "  \n",
        "$$\n",
        "C_D = 0.44 \\; para \\: 1000 < Re \\leq 35000\n",
        "$$\n",
        "  \n",
        "$$\n",
        "C_D = 0.19 - \\frac {8 \\cdot 10^4} {Re} \\; para \\: 1000 < Re \\leq 350000\n",
        "$$\n",
        "\n",
        "onde:\n",
        "  \n",
        "$$\n",
        "Re = \\frac {D_P v_t \\rho} {\\mu}\n",
        "$$\n",
        "3 $\\mu$ é a viscosidade expresada en $Pa \\cdot s$ ou $kg \\cdot m \\cdot s^{-1}$.\n",
        "\n",
        "1. Calcula-la velocidade terminal de partículas de carbón con $\\rho_p$ = 1800 $kg \\cdot m^{-3}$ e $D_p$ = $0.208 \\cdot 10^{-3} \\; m$ caendo en auga a $T$ = 298.15 $K$ onde $\\rho$ = 994.6 $kg \\cdot m^{-3}$ e $\\mu$ = $8.931 \\cdot 10^{-4} \\; kg \\cdot m \\cdot s$.  \n",
        "2.\tEstima-la velocidade de caída terminal das partículas de carbón en auga dentro dun separador centrífugo no que a aceleración é de 30 $g$.\n"
      ]
    },
    {
      "cell_type": "code",
      "execution_count": 1,
      "metadata": {
        "id": "lCLaFLzwxsq8"
      },
      "outputs": [],
      "source": [
        "from scipy import *\n",
        "from scipy.optimize import fsolve"
      ]
    },
    {
      "cell_type": "code",
      "execution_count": 2,
      "metadata": {
        "id": "bRWNebiIxsq9"
      },
      "outputs": [],
      "source": [
        "# Constantes\n",
        "\n",
        "rho_p = 1800.0      # kg/m3\n",
        "rho   = 994.6       # kg/m3\n",
        "D_p   = 0.208e-3    # m\n",
        "mu    = 8.9311e-4   # kg/ms\n",
        "g     = 9.80665     # m/s2"
      ]
    },
    {
      "cell_type": "code",
      "execution_count": 3,
      "metadata": {
        "id": "zO9qUyn2xsq-"
      },
      "outputs": [],
      "source": [
        "def velocidade_terminal(vt):\n",
        "    Re_vt = D_p * vt * rho / mu\n",
        "    if Re_vt < 0.1:\n",
        "        C_D = 24 / Re_vt\n",
        "    else:\n",
        "        C_D = (24.0 * ( 1.0 + 0.14 * Re_vt ** 0.7 ) / Re_vt) \n",
        "    return vt ** 2 * ( 3.0 * C_D * rho ) - 4 * g * ( rho_p - rho ) * D_p"
      ]
    },
    {
      "cell_type": "code",
      "execution_count": 4,
      "metadata": {
        "colab": {
          "base_uri": "https://localhost:8080/"
        },
        "id": "_9N29_0rxsq-",
        "outputId": "fcbfc9d7-b07a-44ea-f976-e4d68faa9f5b"
      },
      "outputs": [
        {
          "name": "stdout",
          "output_type": "stream",
          "text": [
            "Reynolds = [3.65556911]\n",
            "Velocidade terminal da partícula = [0.0157815] m/s\n"
          ]
        }
      ],
      "source": [
        "# Apartado a)\n",
        "v_t = fsolve(velocidade_terminal, 0.01)\n",
        "print('Reynolds =', D_p * v_t * rho / mu)\n",
        "print('Velocidade terminal da partícula =', v_t, 'm/s')"
      ]
    },
    {
      "cell_type": "code",
      "execution_count": 5,
      "metadata": {
        "colab": {
          "base_uri": "https://localhost:8080/"
        },
        "id": "GSeYXbbexsq_",
        "outputId": "01dc6d11-3b9c-489f-f19c-4304f0890a6b"
      },
      "outputs": [
        {
          "name": "stdout",
          "output_type": "stream",
          "text": [
            "Reynolds = [47.72188556]\n",
            "Velocidade terminal da partícula = [0.20602065] m/s\n"
          ]
        }
      ],
      "source": [
        "# Apartado b)\n",
        "g = 30 * g\n",
        "v_t = fsolve(velocidade_terminal, 0.01)\n",
        "print('Reynolds =', D_p * v_t * rho / mu)\n",
        "print('Velocidade terminal da partícula =', v_t, 'm/s')"
      ]
    }
  ],
  "metadata": {
    "colab": {
      "collapsed_sections": [],
      "name": "Titorial 05. Velocidade Terminal de unha partícula no seo dun fluído Python.ipynb",
      "provenance": []
    },
    "kernelspec": {
      "display_name": "Python 3",
      "language": "python",
      "name": "python3"
    },
    "language_info": {
      "codemirror_mode": {
        "name": "ipython",
        "version": 3
      },
      "file_extension": ".py",
      "mimetype": "text/x-python",
      "name": "python",
      "nbconvert_exporter": "python",
      "pygments_lexer": "ipython3",
      "version": "3.8.5"
    }
  },
  "nbformat": 4,
  "nbformat_minor": 0
}

{
  "nbformat": 4,
  "nbformat_minor": 0,
  "metadata": {
    "anaconda-cloud": {},
    "kernelspec": {
      "display_name": "Python 3",
      "language": "python",
      "name": "python3"
    },
    "language_info": {
      "codemirror_mode": {
        "name": "ipython",
        "version": 3
      },
      "file_extension": ".py",
      "mimetype": "text/x-python",
      "name": "python",
      "nbconvert_exporter": "python",
      "pygments_lexer": "ipython3",
      "version": "3.8.2"
    },
    "colab": {
      "name": "Caso Practico de 2 de marzo do 2020 Cálculos PVT para gases non ideais.ipynb",
      "provenance": [],
      "collapsed_sections": [],
      "include_colab_link": true
    }
  },
  "cells": [
    {
      "cell_type": "markdown",
      "metadata": {
        "id": "view-in-github",
        "colab_type": "text"
      },
      "source": [
        "<a href=\"https://colab.research.google.com/github/anxosanchez/sopq/blob/main/C%C3%A1lculos_PVT_para_gases_non_ideais.ipynb\" target=\"_parent\"><img src=\"https://colab.research.google.com/assets/colab-badge.svg\" alt=\"Open In Colab\"/></a>"
      ]
    },
    {
      "cell_type": "markdown",
      "metadata": {
        "id": "c3-RuHeUDlyi"
      },
      "source": [
        "# Cálculos PVT para gases reais\n",
        "\n",
        "Anxo Sánchez\n",
        "\n",
        "Escola de Enxeñaría Industrial\n",
        "Grao en Química Industrial\n",
        "\n",
        "## Enunciado do problema\n",
        "\n",
        "Os cartuchos comerciais de CO<sub>2</sub> teñen un gran número de usos, incluíndo inflado de reumáticos de bicicleta e chalecos salvavidas, dispensadores de refrescos, limpadores de gas comprimido para dispositivos electrónicos e pistolas de gas. Pódense comprar a baixo custo nunha tenda de deportes i en lineais. Un tamaño de cartucho de CO<sub>2</sub> popular ten capacidade para 12 g de gas, contido nun volume interno de 17,6 cm<sup>3</sup>. Estimar a presión dentro do cartucho nas condicións de 40 ºC polos seguintes métodos¨: E\n",
        "\n",
        "1. Ecuación dos gases ideais.\n",
        "2. Ecuación de __Van der Waals__.\n",
        "2. Diagramas de compresibilidade (https://pubs.acs.org/doi/pdf/10.1021/ie50467a036).\n",
        "3. Modelo do __Virial__. \n",
        "4. Ecuación de estado de __Soave-Redlich-Kwong__. \n",
        "5. Datos de referencia do __NIST Webbook__.\n",
        "\n",
        "## Cuestións\n",
        "Comparar os resultados obtidos e os erros e responder ás seguintes cuestións:\n",
        "\n",
        "1. Cómo depende a presión de CO<sub>2</sub> da temperatura no rango de 30 ºC a 50 ºC?.\n",
        "2. Porque tanto erro na lei dos gases ideais?.\n",
        "3. Porque os diagramas de compresibilidade funcionan tan ben neste caso?.\n",
        "4. Débese esperar que funcionen tan ben en outros?.\n",
        "5. Como cambiarían os cálculos se se coñecen a presión e a temperatura se debe calcular o volume molar?."
      ]
    },
    {
      "cell_type": "code",
      "metadata": {
        "id": "87O8LjOnDlym"
      },
      "source": [
        "import numpy as np\n",
        "from scipy.optimize import fsolve\n",
        "import matplotlib.pyplot as plt\n",
        "%matplotlib inline  "
      ],
      "execution_count": 1,
      "outputs": []
    },
    {
      "cell_type": "code",
      "metadata": {
        "id": "VD0EQ5BpDlyn"
      },
      "source": [
        "# Datos do problema\n",
        "M_CO2 = 44.009       # mol-1\n",
        "n_CO2 = 12 / M_CO2   # gmol\n",
        "R  = 0.08206         # atm-L/mol/K\n",
        "temperatura  = 40 + 273.15     # K\n",
        "Volume  = 0.0176          # L\n",
        "\n",
        "# Datos atopados para o CO2\n",
        "presion_critica     = 72.83494 # atm\n",
        "temperatura_critica = 304.1282 # K\n",
        "factor_acentrico     = 0.225    # Factor acéntirco de Pitzer ($\\omega)\n",
        "\n",
        "# Diccioario de datos para almacenar resultados\n",
        "resultados = {}"
      ],
      "execution_count": 2,
      "outputs": []
    },
    {
      "cell_type": "markdown",
      "metadata": {
        "id": "_bXhLt-fDlyn"
      },
      "source": [
        "## Gases ideais\n",
        "\n",
        "A ecuación dos gases ideais é a seguinte:\n",
        "    \n",
        "$$\n",
        "pV = nRT\n",
        "$$\n",
        "\n",
        "onde $p$ é a presión do gas, $V$ o volume, $n$ o número de moles, $R$ a __Consante dos gases__ e $T$ a temperatura. Cando $n$ = 1, $V$ corresponde ó volume molar. Despexando $p$:\n",
        "  \n",
        "$$\n",
        "p = \\frac {RT} {V}\n",
        "$$\n",
        "  "
      ]
    },
    {
      "cell_type": "code",
      "metadata": {
        "colab": {
          "base_uri": "https://localhost:8080/"
        },
        "id": "wuP_6o6WDlyn",
        "outputId": "af602980-1fb2-4736-fc7a-335394bc5850"
      },
      "source": [
        "p_gas_ideal = n_CO2 * R * temperatura / Volume\n",
        "volume_especifico = Volume / n_CO2\n",
        "\n",
        "print('Presión do gas ideal    =', p_gas_ideal, 'atm', p_gas_ideal * 0.101325, 'Pa', 14.696 * p_gas_ideal, 'psia')\n",
        "print('Volume específico molar = ', volume_especifico, 'L/gmol')\n",
        "print('Densidade Molar         =', 1 / volume_especifico, 'gmol/L')\n",
        "# Se quero formatealo un pouco mais \"mono\"\n",
        "print('Presión usando o modelo de gas ideal = {:.2f} atm ou {:.2f} Pa'.format(p_gas_ideal, p_gas_ideal* 0.101325) )\n",
        "print('Volume específico molar              = {:.4f} L/gmol ou {:.4f} ft3/mol'.format(volume_especifico, volume_especifico * 454 / 28.3) )\n",
        "print('Densidade molar                      = {:.4f} L/gmol ou {:.4f} ft3/mol'.format(1 / volume_especifico, 1 / volume_especifico / 454 * 28.3) )\n",
        "\n",
        "resultados['Gas ideal'] = p_gas_ideal"
      ],
      "execution_count": 3,
      "outputs": [
        {
          "output_type": "stream",
          "name": "stdout",
          "text": [
            "Presión do gas ideal    = 398.11726010588734 atm 40.33923138022904 Pa 5850.73125451612 psia\n",
            "Volume específico molar =  0.06454653333333335 L/gmol\n",
            "Densidade Molar         = 15.492698807475326 gmol/L\n",
            "Presión usando o modelo de gas ideal = 398.12 atm ou 40.34 Pa\n",
            "Volume específico molar              = 0.0645 L/gmol ou 1.0355 ft3/mol\n",
            "Densidade molar                      = 15.4927 L/gmol ou 0.9657 ft3/mol\n"
          ]
        }
      ]
    },
    {
      "cell_type": "markdown",
      "metadata": {
        "id": "O8ll6K8rDlyo"
      },
      "source": [
        "## Factor de compresibilidade\n",
        "\n",
        "A carta de compresibilidade xeneralizada é unha ferramenta útil para predicir as propiedades dos gases ou mesturas de gas con precisión aceptable para a maioría dos casos da enxeñería química. Non obstante, o gráfico é incómodo de usar cando o volume é unha das propiedades coñecidas e non se sabe a presión nin a temperatura, porque a resposta debe ser atopada por proba e erro. Para remediar esta condición, o volume crítico ideal permite incorporar liñas de volume reducido ideais como parte do gráfico de compresibilidade. O volume crítico ideal defínese:\n",
        "  \n",
        "$$\n",
        "V_{ci}=\\frac{R T_{c}}{p_{c}}\n",
        "$$\n",
        "  \n",
        "entón, o volume reducido ideal é:\n",
        "  \n",
        "$$\n",
        "v_{r^{\\prime}}=\\frac{v_{\\mathrm{real}}}{v_{ci}}\n",
        "$$\n",
        "  \n",
        "logo:\n",
        "  \n",
        "$$\n",
        "V_{r^{\\prime}}=\\frac{\\frac{z R T}{p}}{\\frac{R T_{c}}{p_{c}}}=Z \\frac{T_{r}}{p_{r}}\n",
        "$$\n",
        "  \n",
        "onde $T$ e $p$ defínense do xeito habitual:\n",
        "  \n",
        "$$\n",
        "T_{r}=\\frac{T}{T_{c}} \\quad p_{r}=\\frac{p}{p_{c}}\n",
        "$$\n",
        "\n",
        "### [Carta ou diagrama de Compresiblidade](http://eon.sdsu.edu/testhome/Test/solve/basics/tables/tablesRG/zNO.html)\n",
        "\n",
        "A ompresibilidade defínese como:\n",
        "\n",
        "\\begin{equation}\n",
        "z = \\frac{P\\hat{V}}{RT}\n",
        "\\end{equation}\n",
        "\n",
        "o que, por definición, ten nun valor de $z=1$ para o gasideal. Os gases reais amosan unha significativa desviación de 1, xenerlmente incrementándose esta a medida que aumentan a presión e a temperatura do gas, ou seña, que as moñéculas do mesmo se xuntan cada vez mais, e debece ca temperatura.\n",
        "\n",
        "\\begin{align*}\n",
        "T_r & = \\frac{T}{T_c}\\\\\n",
        "P_r & = \\frac{P}{P_c}\n",
        "\\end{align*}\n",
        "\n",
        "A [Carta de compresibilidade](http://eon.sdsu.edu/testhome/Test/solve/basics/tables/tablesRG/zNO.html) representa o factor de ocmpresibilidade medido para un número de especies químicas. Dados os valores da presión reducida e a temperatura reducidae, $T_r$ and $p_r$, se pode localizar o valor de $z$, que logo se pode usar para calcular o valor do volume molar $\\hat{V}$.\n",
        "\n",
        "![Carta de compresibilidade xeralizada](http://eon.sdsu.edu/testhome/Test/solve/basics/tables/tablesRG/zNO7.png)\n",
        "\n",
        "Para o caso de que $\\hat{V}$ é unha das variables coñecidas é convinte definir un **volume reducido ideal**. Primeiro hai que definir un volume crítico ideal:\n",
        "\n",
        "\\begin{equation}\n",
        "\\hat{V}^{ideal}_c = \\frac{RT_c}{P_c}\n",
        "\\end{equation}\n",
        "\n",
        "A razón do subíndice 'ideal' é porque é ficticio (os gases reais non son ideais).\n",
        "\n",
        "Entón, o **volume reducido ideal** $\\hat{V}^{ideal}_r$ é: \n",
        "\n",
        "\\begin{equation}\n",
        "\\hat{V}^{ideal}_r = \\frac{\\hat{V}}{\\hat{V}_c} = \\frac{P_c\\hat{V}}{RT_c}\n",
        "\\end{equation}\n",
        "\n",
        "A representación da compresibildade se reforza con curvas de $\\hat{V}^{ideal}_r$ constante. Dados os valores de $\\hat{V}^{ideal}_r$ e ben $P_r$ ou $T_r$, se localiza un valor de $z$. A definición de compresibilidade se usa, entón, para resolver a ecuación de unha incógnita.\n",
        "\n",
        "Polo tanto, o **volume reducido ideal** $\\hat{V}^{ideal}_r$ é:\n",
        "\n",
        "\\begin{equation}\n",
        "\\hat{V}^{ideal}_r = \\frac{\\hat{V}}{\\hat{V}_c} = \\frac{P_c\\hat{V}}{RT_c}\n",
        "\\end{equation}"
      ]
    },
    {
      "cell_type": "code",
      "metadata": {
        "colab": {
          "base_uri": "https://localhost:8080/"
        },
        "id": "bSP7nMEIDlyp",
        "outputId": "f511c73a-cb33-48ad-d2a8-2da189554808"
      },
      "source": [
        "temperatura_reducida = temperatura / temperatura_critica\n",
        "volume_reducido_ideal = presion_critica * volume_especifico / (R * temperatura_critica )\n",
        "\n",
        "print('Tempertura reducida =', temperatura_reducida)\n",
        "print('Volume reducido ideal               =', volume_reducido_ideal)\n",
        "# ou\n",
        "print('Tempertura reducida   = {:.4f}'.format(temperatura_reducida) )\n",
        "print('Volume reducido ideal = {:.4f}'.format(volume_reducido_ideal) )\n",
        "\n",
        "# Buscando valores en (https://pubs.acs.org/doi/pdf/10.1021/ie50467a036)\n",
        "z = 0.28\n",
        "\n",
        "# Cálculo da presión\n",
        "\n",
        "presion_compresibilidade = z * R * temperatura / volume_especifico\n",
        "\n",
        "resultados['Compresibilidade'] = presion_compresibilidade\n",
        "\n",
        "print('Presión de CO2 =', round(presion_compresibilidade, 3), 'atm', 14.696 * presion_compresibilidade, 'psia')\n",
        "print('Presión calculada por carta de compresibilidade {:.4f} atm ou {:.4f} psia'.format(presion_compresibilidade,14.696 * presion_compresibilidade))"
      ],
      "execution_count": 4,
      "outputs": [
        {
          "output_type": "stream",
          "name": "stdout",
          "text": [
            "Tempertura reducida = 1.02966446386754\n",
            "Volume reducido ideal               = 0.18837552892325715\n",
            "Tempertura reducida   = 1.0297\n",
            "Volume reducido ideal = 0.1884\n",
            "Presión de CO2 = 111.473 atm 1638.2047512645136 psia\n",
            "Presión calculada por carta de compresibilidade 111.4728 atm ou 1638.2048 psia\n"
          ]
        }
      ]
    },
    {
      "cell_type": "markdown",
      "metadata": {
        "id": "6yPohqIyDlyq"
      },
      "source": [
        "## Modelo do Virial \n",
        "\n",
        "A serie de expansión do virial foi proposta por primeira vez por __Kamerlingh Onnes__, un físico que gañou o premio __Nobel__ en 1911 polo seu traballo sobre superconductividade e o helio líquido. Tamé acuñou a palabre _enthalpía_).\n",
        "\n",
        "A idea central era crear unha serie infinita de aproximación para o factor de compresibilidade:\n",
        "\n",
        "\\begin{equation}\n",
        "\\frac{P\\hat{V}}{RT} = A + \\frac{B}{\\hat{V}} + \\frac{C}{\\hat{V}^2} + \\frac{D}{\\hat{V}^3}\\cdots\n",
        "\\end{equation}\n",
        "\n",
        "onde $A$, $B$, $C$ son os valores dependentes da temperatura coñecidos como o primeiro, segundo, e terceiro coeficintes do virial respectivamente. O caso $A=1$ e $B=C=D=\\cdots = 0$ corresponde ó gas ideal. \n",
        "\n",
        "Unhe versión usada habitualmente desta serie de expansión supón $A=1$, $B(T)$, e $C=D=\\cdots = 0$, ca conseguinte aproximación de $\\hat{V} = \\frac{RT}{P}$. Entón:\n",
        "\n",
        "\\begin{equation}\n",
        "\\frac{P\\hat{V}}{RT} = 1 + \\frac{BP}{RT}\n",
        "\\end{equation}\n",
        "\n",
        "O que se pode simplificar para dar:\n",
        "\n",
        "\\begin{equation}\n",
        "P= \\frac{RT}{\\hat{V}-B}\n",
        "\\end{equation}\n",
        "\n",
        "O velor dependente da temperatura $B$ estímase por:\n",
        "\n",
        "\\begin{align*}\n",
        "B_0 & = 0.083 - \\frac{0.422}{T_r^{1.6}} \\\\\n",
        "B_1 & = 0.139 - \\frac{0.172}{T_r^{4.2}} \\\\\n",
        "B & = \\frac{RT_c}{P_c}\\left(B_0 + \\omega B_1\\right)\n",
        "\\end{align*}\n",
        "\n",
        "$\\omega$ é o **factor acéntrico de Pitzer**, cuxos valores están en varias táboas de datos químicos de sustancias."
      ]
    },
    {
      "cell_type": "code",
      "metadata": {
        "colab": {
          "base_uri": "https://localhost:8080/"
        },
        "id": "x1b1mHIhDlyq",
        "outputId": "138add91-65af-4b91-9396-c1e2e4da7783"
      },
      "source": [
        "temperatura_reducida = temperatura / temperatura_critica\n",
        "B0 = 0.083 - 0.422 / temperatura_reducida ** 1.6\n",
        "B1 = 0.139 - 0.172 / temperatura_reducida ** 4.2\n",
        "B = (R * temperatura_critica / presion_critica) * (B0 + factor_acentrico * B1)\n",
        "print('B =', B)\n",
        "\n",
        "presion_virial = R * temperatura / ( volume_especifico - B)\n",
        "\n",
        "resultados['Virial'] = presion_virial\n",
        "\n",
        "print('presión de CO2 =', round(presion_virial, 2), 'atm', round(14.696*presion_virial, 2), 'psia')\n",
        "print('presión de CO2 calculada polo virial = {:.2f} atm ou {:.2f} psia'.format(presion_virial,14.696 * presion_virial))"
      ],
      "execution_count": 5,
      "outputs": [
        {
          "output_type": "stream",
          "name": "stdout",
          "text": [
            "B = -0.1105622768302878\n",
            "presión de CO2 = 146.75 atm 2156.63 psia\n",
            "presión de CO2 calculada polo virial = 146.75 atm ou 2156.63 psia\n"
          ]
        }
      ]
    },
    {
      "cell_type": "markdown",
      "metadata": {
        "id": "v6hrT8v8Dlyr"
      },
      "source": [
        "## Ecuación de Van der Waals\n",
        "\n",
        "A ecuación de estado de __Van der Waals__ ven dad por:\n",
        "\n",
        "$$\n",
        "\\left ( p + \\frac {a} {V^2} \\right ) \\left ( V - b \\right ) = RT\n",
        "$$\n",
        "\n",
        "onde\n",
        "\n",
        "$$\n",
        "a = \\frac {27}{64} \\left ( \\frac {R^2 T^2_C} {p_c} \\right )\n",
        "$$\n",
        "\n",
        "$$\n",
        "b + \\frac {R T_C} {8 p_C}\n",
        "$$\n",
        "\n",
        "A presión reducida defínese como:\n",
        "\n",
        "$$\n",
        "p_r = \\frac {p} {p_C}\n",
        "$$\n",
        "\n",
        "e o factor de compresibilidade, $z$, ven dado por:\n",
        "\n",
        "$$\n",
        "z = \\frac {pV} {RT}\n",
        "$$"
      ]
    },
    {
      "cell_type": "code",
      "metadata": {
        "id": "EDyEHrv3Dlyr"
      },
      "source": [
        "a = ( (27 / 64 ) * R ** 2 * temperatura_critica ** 2 ) / presion_critica\n",
        "b = ( R * temperatura_critica ) / ( 8 * presion_critica)"
      ],
      "execution_count": 6,
      "outputs": []
    },
    {
      "cell_type": "code",
      "metadata": {
        "colab": {
          "base_uri": "https://localhost:8080/"
        },
        "id": "Z_UlyflUDlys",
        "outputId": "4adb860d-36aa-42e1-94b8-4497c90982c2"
      },
      "source": [
        "presion_vanderwaals = R * temperatura / ( volume_especifico - b ) - a / volume_especifico ** 2\n",
        "\n",
        "resultados['Van der Waals'] = presion_vanderwaals\n",
        "\n",
        "print('Presión de CO2 por Van der Waals =', presion_vanderwaals, 'atm', 14.696 * presion_vanderwaals,'psia')\n",
        "print('Presión de CO2 por Van der Waals = {:.2f} atm ou {:.2f} psia'.format(presion_vanderwaals, 14.696 * presion_vanderwaals,'psia'))"
      ],
      "execution_count": 7,
      "outputs": [
        {
          "output_type": "stream",
          "name": "stdout",
          "text": [
            "Presión de CO2 por Van der Waals = 317.43819738541583 atm 4665.071748776071 psia\n",
            "Presión de CO2 por Van der Waals = 317.44 atm ou 4665.07 psia\n"
          ]
        }
      ]
    },
    {
      "cell_type": "markdown",
      "metadata": {
        "id": "SyubNlnLDlys"
      },
      "source": [
        "## Ecuación de Estado de Soave-Redlich-Kwong\n",
        "\n",
        "A EOS de Soave-Redlick-Kwong é unha das ecuacións de estado mais usadas porque é aplicable a unha ampla variedad de sistemas. A expresión xeral da ecuación é:\n",
        "\n",
        "\\begin{equation}\n",
        "P = \\frac{RT}{\\hat{V}-b} - \\frac{\\alpha a}{\\hat{V}(\\hat{V}+b)}\n",
        "\\end{equation}\n",
        "\n",
        "onde os parámetros da mesma veñen dados por:\n",
        "\n",
        "\\begin{align*}\n",
        "a & = 0.42747 \\frac{(RT_c)^2}{P_c} \\\\\n",
        "b & = 0.08664 \\frac{RT_c}{P_c} \\\\\n",
        "m & = 0.48508 + 1.55171\\omega - 0.1561\\omega^2\\\\\n",
        "T_r & = \\frac{T}{T_c}\\\\\n",
        "\\alpha & = \\left[1 + m(1 - \\sqrt{T_r})\\right]^2\n",
        "\\end{align*}"
      ]
    },
    {
      "cell_type": "code",
      "metadata": {
        "colab": {
          "base_uri": "https://localhost:8080/"
        },
        "id": "prrk_ouqDlys",
        "outputId": "b12b33a8-7ca9-4d92-810c-03a81d048d99"
      },
      "source": [
        "from math import sqrt\n",
        "\n",
        "a = 0.42747 * ( R * temperatura_critica) ** 2 / presion_critica\n",
        "b = 0.08664 * R * temperatura_critica / presion_critica\n",
        "m = 0.48508 + 1.5517 * factor_acentrico - 0.1561 * factor_acentrico ** 2\n",
        "temperatura_reducida = temperatura / temperatura_critica\n",
        "alpha = ( 1 + m * ( 1 - sqrt ( temperatura_reducida ) ) ) **2\n",
        "\n",
        "presion_srk = R * temperatura / ( volume_especifico - b ) - alpha * a / volume_especifico / ( volume_especifico + b )\n",
        "\n",
        "resultados['SRK'] = presion_srk\n",
        "\n",
        "print('Presión de CO2 por Soave-Redlich-Kwong =', presion_srk, 'atm', 14.696 * presion_srk, 'psia')\n",
        "print('Presión de CO2 por Soave-Redlich-Kwong = {:.2f} atm ou {:.2f} psia'.format(presion_srk, 14.696 * presion_srk) )"
      ],
      "execution_count": 8,
      "outputs": [
        {
          "output_type": "stream",
          "name": "stdout",
          "text": [
            "Presión de CO2 por Soave-Redlich-Kwong = 150.71148961601057 atm 2214.8560513968914 psia\n",
            "Presión de CO2 por Soave-Redlich-Kwong = 150.71 atm ou 2214.86 psia\n"
          ]
        }
      ]
    },
    {
      "cell_type": "markdown",
      "metadata": {
        "id": "bv7sNPjcDlyt"
      },
      "source": [
        "### Datos de referencia do NIST Webbook\n",
        "\n",
        "O NIST (National Institute of Standards and Technology) mantén unha base de datos accesible por web que contén datos de referencia. O [Webbook do NIST](https://webbook.nist.gov/chemistry/) é un sitio moi fiable donde se poden atopar datos fiables e constrastados de mais de 7000 compostos químicos orgáncios e inorgánicos.\n",
        "\n",
        "### [Datos de Propiedades do fluído do NIST Fluid para o $CO_2$](https://webbook.nist.gov/cgi/fluid.cgi?ID=C124389&Action=Page)\n"
      ]
    },
    {
      "cell_type": "code",
      "metadata": {
        "colab": {
          "base_uri": "https://localhost:8080/"
        },
        "id": "WnmMsVMrDlyt",
        "outputId": "42659f41-f771-47bc-8efa-a218bc49c230"
      },
      "source": [
        "densidade = 1 / volume_especifico\n",
        "print('Densidade = {:.2f} mol/L'.format(densidade))\n",
        "# puntos a interpolar\n",
        "pb = 118.43 \n",
        "db = 16.309\n",
        "pa = 105.27 \n",
        "da = 15.139\n",
        "\n",
        "presion_nist = pa + ( densidade - da ) * ( pb - pa ) /  ( db - da )\n",
        "print(presion_nist)\n",
        "\n",
        "resultados['NIST Webbook'] = presion_nist\n",
        "\n",
        "print('Presión CO2 NIST Webbok =', presion_nist, 'atm', 14.696 * presion_nist, 'psi')\n",
        "print('Presión CO2 NIST Webbok = {:.3f} atm ou {:.3f} psi'.format(presion_nist,14.696 * presion_nist))"
      ],
      "execution_count": 9,
      "outputs": [
        {
          "output_type": "stream",
          "name": "stdout",
          "text": [
            "Densidade = 15.49 mol/L\n",
            "109.24835581741479\n",
            "Presión CO2 NIST Webbok = 109.24835581741479 atm 1605.5138370927277 psi\n",
            "Presión CO2 NIST Webbok = 109.248 atm ou 1605.514 psi\n"
          ]
        }
      ]
    },
    {
      "cell_type": "code",
      "metadata": {
        "colab": {
          "base_uri": "https://localhost:8080/"
        },
        "id": "4X801_7hDlyt",
        "outputId": "8eb3368f-958d-4d12-c270-4c7e30aa6deb"
      },
      "source": [
        "print('{0:15s}  {1:9s}   {2:5s}'.format('EOS', 'Presión', 'Error'))\n",
        "\n",
        "for key,val in resultados.items():\n",
        "    err = 100 * ( ( val - presion_nist ) / presion_nist )\n",
        "    print('{0:18s}  {1:5.1f} atm   {2:5.1f}%'.format(key, val, err))\n",
        "  "
      ],
      "execution_count": 10,
      "outputs": [
        {
          "output_type": "stream",
          "name": "stdout",
          "text": [
            "EOS              Presión     Error\n",
            "Gas ideal           398.1 atm   264.4%\n",
            "Compresibilidade    111.5 atm     2.0%\n",
            "Virial              146.7 atm    34.3%\n",
            "Van der Waals       317.4 atm   190.6%\n",
            "SRK                 150.7 atm    38.0%\n",
            "NIST Webbook        109.2 atm     0.0%\n"
          ]
        }
      ]
    }
  ]
}